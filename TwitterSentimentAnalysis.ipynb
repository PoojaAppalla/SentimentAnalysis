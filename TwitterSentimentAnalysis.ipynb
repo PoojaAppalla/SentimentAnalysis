{
 "cells": [
  {
   "cell_type": "code",
   "execution_count": 1,
   "id": "6eb23cd9",
   "metadata": {},
   "outputs": [],
   "source": [
    "from textblob import TextBlob"
   ]
  },
  {
   "cell_type": "code",
   "execution_count": 3,
   "id": "587fffc8",
   "metadata": {},
   "outputs": [
    {
     "name": "stdout",
     "output_type": "stream",
     "text": [
      "Collecting tweepy\n",
      "  Downloading tweepy-4.14.0-py3-none-any.whl (98 kB)\n",
      "\u001b[2K     \u001b[90m━━━━━━━━━━━━━━━━━━━━━━━━━━━━━━━━━━━━━━━━\u001b[0m \u001b[32m98.5/98.5 kB\u001b[0m \u001b[31m2.0 MB/s\u001b[0m eta \u001b[36m0:00:00\u001b[0ma \u001b[36m0:00:01\u001b[0m\n",
      "\u001b[?25hRequirement already satisfied: oauthlib<4,>=3.2.0 in /Library/Frameworks/Python.framework/Versions/3.10/lib/python3.10/site-packages (from tweepy) (3.2.2)\n",
      "Requirement already satisfied: requests<3,>=2.27.0 in /Library/Frameworks/Python.framework/Versions/3.10/lib/python3.10/site-packages (from tweepy) (2.30.0)\n",
      "Requirement already satisfied: requests-oauthlib<2,>=1.2.0 in /Library/Frameworks/Python.framework/Versions/3.10/lib/python3.10/site-packages (from tweepy) (1.3.1)\n",
      "Requirement already satisfied: charset-normalizer<4,>=2 in /Library/Frameworks/Python.framework/Versions/3.10/lib/python3.10/site-packages (from requests<3,>=2.27.0->tweepy) (3.1.0)\n",
      "Requirement already satisfied: idna<4,>=2.5 in /Library/Frameworks/Python.framework/Versions/3.10/lib/python3.10/site-packages (from requests<3,>=2.27.0->tweepy) (3.4)\n",
      "Requirement already satisfied: urllib3<3,>=1.21.1 in /Library/Frameworks/Python.framework/Versions/3.10/lib/python3.10/site-packages (from requests<3,>=2.27.0->tweepy) (1.26.16)\n",
      "Requirement already satisfied: certifi>=2017.4.17 in /Library/Frameworks/Python.framework/Versions/3.10/lib/python3.10/site-packages (from requests<3,>=2.27.0->tweepy) (2023.5.7)\n",
      "Installing collected packages: tweepy\n",
      "Successfully installed tweepy-4.14.0\n",
      "Note: you may need to restart the kernel to use updated packages.\n"
     ]
    }
   ],
   "source": [
    "pip install tweepy"
   ]
  },
  {
   "cell_type": "code",
   "execution_count": 4,
   "id": "d40c1cfc",
   "metadata": {},
   "outputs": [],
   "source": [
    "import tweepy"
   ]
  },
  {
   "cell_type": "code",
   "execution_count": 5,
   "id": "fbb4ecef",
   "metadata": {},
   "outputs": [],
   "source": [
    "import matplotlib.pyplot as plt"
   ]
  },
  {
   "cell_type": "code",
   "execution_count": 6,
   "id": "04b230ce",
   "metadata": {},
   "outputs": [],
   "source": [
    "consumer_key = \"your_consumer_key\"\n",
    "consumer_secret = \"your_secret_consumer_token\"\n",
    "\n",
    "access_token = \"your_access_token\"\n",
    "access_token_secret = \"your_access_token_secret\""
   ]
  },
  {
   "cell_type": "code",
   "execution_count": 7,
   "id": "db6ca392",
   "metadata": {},
   "outputs": [],
   "source": [
    "auth = tweepy.OAuthHandler(consumer_key,consumer_secret)"
   ]
  },
  {
   "cell_type": "code",
   "execution_count": 8,
   "id": "8d19c09d",
   "metadata": {},
   "outputs": [],
   "source": [
    "auth.set_access_token(access_token,access_token_secret)"
   ]
  },
  {
   "cell_type": "code",
   "execution_count": 9,
   "id": "5be7e9d2",
   "metadata": {},
   "outputs": [],
   "source": [
    "api = tweepy.API(auth)"
   ]
  },
  {
   "cell_type": "code",
   "execution_count": 10,
   "id": "598a83f6",
   "metadata": {},
   "outputs": [
    {
     "data": {
      "text/plain": [
       "tweepy.api.API"
      ]
     },
     "execution_count": 10,
     "metadata": {},
     "output_type": "execute_result"
    }
   ],
   "source": [
    "type(api)"
   ]
  },
  {
   "cell_type": "code",
   "execution_count": 11,
   "id": "0e11918d",
   "metadata": {},
   "outputs": [],
   "source": [
    "search_term = 'Money Heist'\n",
    "num_tweets = 100"
   ]
  },
  {
   "cell_type": "code",
   "execution_count": null,
   "id": "210ca6a7",
   "metadata": {},
   "outputs": [],
   "source": []
  },
  {
   "cell_type": "code",
   "execution_count": 30,
   "id": "f2621c34",
   "metadata": {},
   "outputs": [],
   "source": [
    "list1 = []"
   ]
  },
  {
   "cell_type": "code",
   "execution_count": 17,
   "id": "664f4b66",
   "metadata": {},
   "outputs": [],
   "source": [
    "client = tweepy.Client(bearer_token='your bearer token')\n",
    "\n"
   ]
  },
  {
   "cell_type": "code",
   "execution_count": 31,
   "id": "65c469e4",
   "metadata": {},
   "outputs": [],
   "source": [
    "tweets_resp = client.search_recent_tweets(query=search_term, max_results=num_tweets)\n",
    "list1.append(tweets_resp)"
   ]
  },
  {
   "cell_type": "code",
   "execution_count": 36,
   "id": "7e033395",
   "metadata": {},
   "outputs": [
    {
     "name": "stdout",
     "output_type": "stream",
     "text": [
      "Iyuno was proud to provide the German, Indonesian, and Italian dubbing services for the limited series Money Heist Berlin. https://t.co/VMpQ5jMjF5\n",
      "Tokyo in Money Heist is so aggressively hot.\n",
      "RT @Najwitzchild: itziar ituño (Raquel Murillo ใน La Casa de Papel (Money Heist) เฟมินิสต์ ชอบแนวคิดคอมมิวนิสต์ (นิดหน่อย) ฝ่ายซ้าย สนับสนุ…\n",
      "@kitabiikeera That was my point too the arc that develops more gets more hook, sometimes its just the quirks its not about being good or evil. People rooted for robbers than cops in Money Heist ,People rooted for lannisters too\n",
      "Btw skyler got way too much hate Anna Gunn got threats and all\n",
      "Is the money heist still on net \n",
      "Flix? There’s just that ONE \n",
      "Scene. I’ve got to find what all the\n",
      "Timings are. #rtitbot\n",
      "#MyCosplayFantasy\n",
      "\n",
      "You will wear a Money Heist costume tapos bigla kang papasok sa buhay ko at nanakawin ang puso at atensyon ko.\n",
      "\n",
      "@RX931 #TheMorningRush\n",
      "@aery_isha Money heist\n",
      "Elite\n",
      "\n",
      "Try karo best series h\n",
      "Grammy-winning mouths sing the praise of nature.\n",
      "\n",
      "Africans singnature. \n",
      "\n",
      "Your movie had many soft sex scenes but few Money Heist suspense.\n",
      "\n",
      "No heart-racing, or heart-fatal pounding.\n",
      "\n",
      "Fatal seduction couldn't seduce you after her 1st episode.\n",
      "\n",
      "The actors weren't seductive either. https://t.co/dpEhkKyClN\n",
      "@SaycheeseDGTL money heist walk\n",
      "Money Heist was 4 years ago ???👀👀\n",
      "money heist he master mind in robbing banks https://t.co/V2hALm6UrP\n",
      "@Troll_Cinema Jawan was cringe copy of money heist…those who have seen even a single season of it cant deny it. It was a cringe fest of 2023 hyped by corporate bookings.\n",
      "@ThatAbdulGuy_ It’s money heist\n",
      "@lotusthelibra Money heist ?\n",
      "@matin1221 Vikings \n",
      "Dark\n",
      "Money heist\n",
      "Berlin\n",
      "Black Mirror\n",
      "RT @zaMusbeyNe_: I just remember all the years we spent watching Money Heist Series only to be disappointed at the end.\n",
      "*spoilers*\n",
      "\n",
      "also the actor cameos are too good wow !!!! like wdym you have úrsula from money heist ??? &amp; PAUL DANO ???\n",
      "@MattWalshBlog U r a clown. No1 is arguing in favor of ANY form of slavery. It’s a fact race-based, chattel slavery was unique to the Americas and impacted millions of ppl and billons of their descendants. Only ppl who ever got some reparations were white slave owners. https://t.co/z09SGaU97A\n",
      "RT @TylariousYT: Best Ways To Make Money In GTA Online: Casino Heist Silent &amp; Sneaky META... https://t.co/uMgq6SRArE via @YouTube\n",
      "Then NON Employer Non Respondent Non Defendant CVS HEALTH PHARMACY IN under their own EIN number created a fake remittance advice to fake the IRS out and continue with the money heist conspiracy to commit grand theft that ROGUE IN BLACK ROBE CHRIS LAZY JUDGE BROWN COVERED UP https://t.co/tnf3NJ2rT4 https://t.co/M79Hf8aKvo\n",
      "@Joe_Fann 1. The Office\n",
      "2. Friends\n",
      "3. Burn Notice \n",
      "4. You\n",
      "5. Money Heist\n",
      "@darrell_jerome @SKMorefield (1) The great “stimulus” heist: Mr. Obama grabbed almost trillion dollars for “stimulus” spending, but created virtually zero private-sector jobs, allowed a great deal of the money to vanish and spent the rest of his presidency complaining he needed hundreds of billions more to… https://t.co/dfjqGKWOIh\n",
      "@juliethardt Money Heist 😪\n",
      "RT @hanjidz: the biggest robbery since money heist\n",
      "https://t.co/4z6hlLhctx\n",
      "@ThatAbdulGuy_ @M_Bin_Isah Money heist\n",
      "RT @JediJedi1111: Constitutional Right VIOLATORS\n",
      "Bad 🍏lawyers &amp; Rogue Judges in conspiracy to commit grand theft and criminal conversion mo…\n",
      "The current situation in Zimbabwe.\n",
      "This particular situation is called Stochholm Syndrome which I remember happened in Money Heist. Anyhow, you idiots can continue to praise these thieves until poverty has waken you up... zvima duzvi zvevanhu makapusa stereki🚮 https://t.co/QYmduuzrQe\n",
      "@SIKAOFFICIAL1 Unless money heist ooo\n",
      "Completed: \n",
      "• Suits\n",
      "• The Blacklist\n",
      "• Scandal\n",
      "• HTGAWM\n",
      "• Money Heist\n",
      "• Lincoln Lawyer\n",
      "• Designated Survivor\n",
      "• Night Agent \n",
      "\n",
      "I wish I could find new shows like these from my list!\n",
      "@incredibledude9 @TheSerahIbrahim @woye1 @toluogunlesi @BashirAhmaad Real money heist\n",
      "Money heist done 🤝,Berlin here I come 🤭 https://t.co/BSHHKJmDgb\n",
      "@Mahhnoor_abid Ahahaha acha money heist banaya hua\n",
      "i just started money heist i'm so late ik but tokyo just died.. im ready to turn this shit tf OFF 🤣\n",
      "RT @KaisDinoVenture: THE JURASSIC PARK MONEY HEIST  SCAM  #stopmotion #jurassicworld #dinos https://t.co/jBzVpTy3T5 via @YouTube #TacoTuesd…\n",
      "RT @TylariousYT: Best Ways To Make Money In GTA Online: Casino Heist Silent &amp; Sneaky META... https://t.co/uMgq6SRArE via @YouTube\n",
      "RT @TylariousYT: Best Ways To Make Money In GTA Online: Casino Heist Silent &amp; Sneaky META... https://t.co/uMgq6SRArE via @YouTube\n",
      "Best Ways To Make Money In GTA Online: Casino Heist Silent &amp; Sneaky META... https://t.co/uMgq6SRArE via @YouTube\n",
      "@_ThobileMametja I owe 36k bruh😭😭and don't know where I will get the money 😭😭we need to come together and resolve this. Let's prepare a heist🙏🙏\n",
      "@chet_weets Today, I was sitting next to school students while waiting for the Bus. \n",
      "\n",
      "All the discussion was around web series like GOT, Viking, Money Heist &amp; all the other things which they should not even think about at this age.\n",
      "@Bunt_Dog @baseballcrank It’s the most important country in the world from an abolitionist perspective. But, the facts are that they ended slavery and then the white world order made them pay for daring to be free. White slave owners and their supportive societies were gross. \n",
      "\n",
      "https://t.co/z09SGaU97A\n",
      "RT @i_afaqahmad: @everymovieplug 10 popular Netflix movies you might enjoy: 1. \"Stranger Things\" 2. \"The Crown\" 3. \"Money Heist\" 4. \"Black…\n",
      "RT @noman83656: Money heist https://t.co/LxYwPoo9im\n",
      "I’m mad af they killed Berlin on Money Heist. I obviously have a thing for psychopaths cause he was my FAVORITE😫\n",
      "RT @hispri0rity: @Sports_Doctor2 @jerry_emy She didn’t steal 30bn. It’s what they recovered. I’m sure if you add another zero it’s what she…\n",
      "@MimiHearts1 I rather don't trust at all than trusting that money heist lady😂🤣😂🤣😂\n",
      "how alike are we ? 10% for each\n",
      "\n",
      "⭑ birth month: July\n",
      "⭑ zodiac sign: Leo\n",
      "⭑ status: 🥱\n",
      "⭑ fav color: 💛\n",
      "⭑ fav season: Fall\n",
      "⭑ fav shows: Alice in Borderland, Money heist, The queen's gambit\n",
      "⭑ fav movie: Harry Potter\n",
      "⭑ eye color: brown\n",
      "⭑ hair color: brown\n",
      "⭑ sexuality: gay ig\n",
      "@elonmusk @MattWalshBlog Not true. \n",
      "\"Haiti was the first nation to permanently ban slavery. But Jefferson was worried that their ideas would spread, so he \"worked to isolate Haiti diplomatically and strangle it economically\"\n",
      "https://t.co/b2F0h9luZ3.\n",
      "@ehsinraja Money heist\n",
      "@JoJoJosiah_ money heist lol\n",
      "@mbiti_mwondi Tattoos has been a debate, some countries have acceptable limits.\n",
      "\n",
      "😂 Kenya we don't have the time .\n",
      "\n",
      "It will be interesting though to see a bank guard with a money heist tatoo.\n",
      "@IM_MaRia33 Money heist\n",
      "@Quincy_Lumba Ne government no deɛ akrɔnfoɔ nkoaa. Professor ne ne mma. Money heist paaa\n",
      "@NetflixFR Une suite à la saison 1 de money heist korea ?\n",
      "RT @KaisDinoVenture: THE JURASSIC PARK MONEY HEIST  SCAM  #stopmotion #jurassicworld #dinos https://t.co/jBzVpTy3T5 via @YouTube #TacoTuesd…\n",
      "چرا هیچکس بهم نگفته بود money heist انقد قشنگهههه؟؟\n",
      "\n",
      "یه روزِ کل فصل یکو دیدم\n",
      "favorite series—\n",
      "\n",
      "-asur\n",
      "-flower of evil\n",
      "-the glory\n",
      "-13 reasons why\n",
      "-euphoria\n",
      "-money heist\n",
      "-school of lies https://t.co/DrH39EGmmK\n",
      "@DKGodiva Thank you. Drawing the line there by money heist &amp; prison break though.\n",
      "how alike are we? \n",
      "⭑ birth month: april\n",
      "⭑ zodiac sign: aries\n",
      "⭑ status: single\n",
      "⭑ fav color: blue\n",
      "⭑ fav season: summer \n",
      "⭑ fav show: La Casa de Papel (Money Heist for USA)\n",
      "⭑ fav movie: Star Wars: A New Hope\n",
      "⭑ eye color: brown\n",
      "⭑ hair color: dark brown\n",
      "⭑ sexuality: bi https://t.co/Q9V5YgxWiS\n",
      "money heist❌ watermelon heist✔️\n",
      "RT @KaisDinoVenture: THE JURASSIC PARK MONEY HEIST  SCAM  #stopmotion #jurassicworld #dinos https://t.co/jBzVpTy3T5 via @YouTube #TacoTuesd…\n",
      "how alike are we? 10% for each  \n",
      "\n",
      "⭑ birth month: April\n",
      "⭑ zodiac sign: Taurus\n",
      "⭑ status: single\n",
      "⭑ fav colour: pink\n",
      "⭑ fav season: fall/summer\n",
      "⭑ fav show: money heist\n",
      "⭑ fav movie: the devil wears prada\n",
      "⭑ eye color: brown\n",
      "⭑ hair color: dark brown\n",
      "⭑ sexuality: straight\n",
      "THE JURASSIC PARK MONEY HEIST  SCAM  #stopmotion #jurassicworld #dinos https://t.co/jBzVpTy3T5 via @YouTube #TacoTuesday #TuesdayMotivaton #TuesdayFeeling #tuesdayvibes #KingPowerCNY24 #THETORTUEDPOETSDEPARTMENT #art #CraftingInspiration #CraftBizParty #apo555 #stopmotion #kids\n",
      "RT @yoongienthusias: money heist but better omg\n",
      "Too fucking real\n",
      "To plan a heist in Nigeria with someone like “The professor” In money heist will be the smoothest heist with no traces whatsoever in Africa with no casualties on the both sides including the police and hostages https://t.co/32WxVmwpDk\n",
      "@JazTheRapper One of the best streams was the money heist and the one when that nigga picture fell in the back and he screamed 😂. This show was too mf good and I realize I def took it for granted\n",
      "@kashaf__bilal Well watch the money heist\n",
      "@Jagdev0509 If there's a character i truly hated in money heist after arturo roman, its berlin\n",
      "@Durag_Homer @YoussafeD3541 @dat_taboo @Sssssssssssssey @GODSTEEL7 @Deku375 @satanlucifer186 @GreninjaGoat @Animesempai0 What’re you talking about there’s literally proof of squid game being the most watched show ever in a year and has surpassed giants like money heist and breaking bad,game of thrones in a year there were literally crypto coins made in the name of squid game\n",
      "RT @ItsJustGrim420: @DiosaBerry you GOTTA see money heist😭\n",
      "@CreepyOrg Rat a money heist 🤣 https://t.co/2RpXKTCWF4\n",
      "RT @abigailabigab: Money has refused 😒😂\n",
      "Who wants? We do money heist  and if we get caught we do prison break? 😒😂😂 https://t.co/fNOPK5wcx4\n",
      "has anyone watched Berlin? (money heist prequel)\n",
      "@Money_Heist_LRT 🎀\n",
      "@SwatiJaiHind Wow now that's \"THE MOST IMPERFECT HEIST\" recorded in the history. The next sequel to MONEY HEIST is based on this with \"Title: MONEY HEIST THE CHANDIGARH CHAPTER \"...\n",
      "It's Sad that such an undemocratic act happened in the City Beautiful of our beautiful country.\n",
      "Money heist👹👺\n",
      "#MarryMyHusband https://t.co/X1ksF9GrUP\n",
      "\"Berlin\" is a great spinoff of Money Heist Series. Interesting characters, captivating storyline 👌\n",
      "RT @MinThetYaungZin: ဒီကိုရီးယားမင်းသားနဲ့မင်းသမီးကလည်းနာမည်ကြီးပဲနော်။တောင့်တောင့်ဖြောင့်ဖြောင့်နဲ့မင်းသားကိုကြွေလိုက်တာ။Sexဖြစ်တဲ့အခန်း…\n",
      "@its_okuhleyyyy Ever since money heist came out I’ve been making a plan but no one wants to join me😭😭are you in?\n",
      "@TalhaKhattak979 money heist\n",
      "how alike are we? 10% for each\n",
      "\n",
      " birth month: march\n",
      " zodiac sign: pisces\n",
      " status: single\n",
      " fav color: 🔵🔴\n",
      " fav season: summer\n",
      " fav show: money heist \n",
      " fav movie: spider-man no way home\n",
      " eye color: brown\n",
      " hair color: brown\n",
      " sexuality: straight\n",
      "Let it be on Record that Hadi Sirika performed one of the highest money heist in Nigerian history.\n",
      "\n",
      "Man is unapologetically a Cr!miNaL https://t.co/NrRSi3dnel\n",
      "@realchotibachi @Miro00165832  @loresofyores  @HateYou_99  I haven’t watched money heist but do this for meee!!!!!!!!! Dedicate\n",
      "RT @Shipululo: If Hage is Professor, Nekongo is Nairobi who are other characters at the Swapo Money Heist?\n",
      "@ggreenwald That's how you buy elections and control politicians!! Money talks and BS walks. Take the power away from the people and give it to foreign special interests through mega donations to Super-PAC fronts,made possible by the Supreme Court. Greatest heist and hijacking of a country\n",
      "RT @fatiii_hun_yawr: Choose one..?\n",
      "Game of thrones         or            Money heist https://t.co/ZcmoQWqhjf\n",
      "@0x0ni0n Money heist 😂\n",
      "@deusx_45 Dude made it seem like, you could just hop on hacking and begin money heist👀\n",
      "RT @otegabillz: After all this while I just finished watching money heist I need another mad movie suggestion 😃\n",
      "@M9News_ It will be more like Money Heist. First and second season may excite you but going ahead it makes you feel there is nothing much apart from surpassing the new villain. Suicidal move\n",
      "@0x0ni0n This is not a money heist on Netflix bro 😭😭😭😭\n",
      "Starting Money Heist\n",
      "@VOAfarsi https://t.co/wubAXHQgI7+\n",
      "Money heist https://t.co/pJoa28w46J\n",
      "RT @otegabillz: After all this while I just finished watching money heist I need another mad movie suggestion 😃\n",
      "RT @asilliy: i wanna pull a heist and get caught. but before i get caught i want to bury the money in someones backyard. get out on good be…\n",
      "Me: Arturo!😂\n",
      "\n",
      "Series Name: Money Heist\n",
      "\n",
      "What About U...? https://t.co/sXraHmcvx0\n",
      "RT @Anu09_: Suggest me a Crime Thriller series ( Any Language ) Except Prison Break, Money Heist, Breaking Bad .\n",
      "Man how am I supposed to see her as a fun rom com character after Money Heist Korea lmaooo https://t.co/uSstvCiBMk\n",
      "@3Moona26 @Money_Heist_LRT @crystaldoll24 @Malihafati13921 Thanks\n",
      "@Universe0114 @Money_Heist_LRT @crystaldoll24 @Malihafati13921 𝐷\n"
     ]
    }
   ],
   "source": [
    "for i in tweets_resp.data:\n",
    "    print(i.text)"
   ]
  },
  {
   "cell_type": "code",
   "execution_count": 37,
   "id": "56f85d49",
   "metadata": {},
   "outputs": [],
   "source": [
    "a = 'I ama good person'\n",
    "b = 'I am a bad girl'\n",
    "c = 'I am a person'"
   ]
  },
  {
   "cell_type": "code",
   "execution_count": 38,
   "id": "08c0e9da",
   "metadata": {},
   "outputs": [
    {
     "data": {
      "text/plain": [
       "Sentiment(polarity=0.7, subjectivity=0.6000000000000001)"
      ]
     },
     "execution_count": 38,
     "metadata": {},
     "output_type": "execute_result"
    }
   ],
   "source": [
    "TextBlob(a).sentiment"
   ]
  },
  {
   "cell_type": "code",
   "execution_count": 39,
   "id": "3ff362ef",
   "metadata": {},
   "outputs": [
    {
     "data": {
      "text/plain": [
       "Sentiment(polarity=-0.6999999999999998, subjectivity=0.6666666666666666)"
      ]
     },
     "execution_count": 39,
     "metadata": {},
     "output_type": "execute_result"
    }
   ],
   "source": [
    "TextBlob(b).sentiment"
   ]
  },
  {
   "cell_type": "code",
   "execution_count": 40,
   "id": "990060b0",
   "metadata": {},
   "outputs": [
    {
     "data": {
      "text/plain": [
       "Sentiment(polarity=0.0, subjectivity=0.0)"
      ]
     },
     "execution_count": 40,
     "metadata": {},
     "output_type": "execute_result"
    }
   ],
   "source": [
    "TextBlob(c).sentiment"
   ]
  },
  {
   "cell_type": "code",
   "execution_count": 41,
   "id": "f399272e",
   "metadata": {},
   "outputs": [],
   "source": [
    "negative = 0\n",
    "neutral = 0\n",
    "positive = 0"
   ]
  },
  {
   "cell_type": "code",
   "execution_count": 44,
   "id": "15ab0e70",
   "metadata": {},
   "outputs": [],
   "source": [
    "for i in tweets_resp.data:\n",
    "    analysis = TextBlob(i.text)\n",
    "    polarity = analysis.sentiment.polarity\n",
    "    \n",
    "    if polarity == 0:\n",
    "        neutral += 1\n",
    "    elif polarity <0:\n",
    "        negative += 1\n",
    "        \n",
    "    else:\n",
    "        positive += 1"
   ]
  },
  {
   "cell_type": "code",
   "execution_count": 45,
   "id": "f688b4b2",
   "metadata": {},
   "outputs": [
    {
     "data": {
      "text/plain": [
       "47"
      ]
     },
     "execution_count": 45,
     "metadata": {},
     "output_type": "execute_result"
    }
   ],
   "source": [
    "neutral"
   ]
  },
  {
   "cell_type": "code",
   "execution_count": 46,
   "id": "c14c8d5f",
   "metadata": {},
   "outputs": [
    {
     "data": {
      "text/plain": [
       "20"
      ]
     },
     "execution_count": 46,
     "metadata": {},
     "output_type": "execute_result"
    }
   ],
   "source": [
    "negative"
   ]
  },
  {
   "cell_type": "code",
   "execution_count": 47,
   "id": "11b453f8",
   "metadata": {},
   "outputs": [
    {
     "data": {
      "text/plain": [
       "33"
      ]
     },
     "execution_count": 47,
     "metadata": {},
     "output_type": "execute_result"
    }
   ],
   "source": [
    "positive"
   ]
  },
  {
   "cell_type": "code",
   "execution_count": null,
   "id": "ff4359f4",
   "metadata": {},
   "outputs": [],
   "source": []
  }
 ],
 "metadata": {
  "kernelspec": {
   "display_name": "Python 3 (ipykernel)",
   "language": "python",
   "name": "python3"
  },
  "language_info": {
   "codemirror_mode": {
    "name": "ipython",
    "version": 3
   },
   "file_extension": ".py",
   "mimetype": "text/x-python",
   "name": "python",
   "nbconvert_exporter": "python",
   "pygments_lexer": "ipython3",
   "version": "3.10.11"
  }
 },
 "nbformat": 4,
 "nbformat_minor": 5
}
